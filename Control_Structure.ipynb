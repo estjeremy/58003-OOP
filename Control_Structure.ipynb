{
  "nbformat": 4,
  "nbformat_minor": 0,
  "metadata": {
    "colab": {
      "provenance": [],
      "authorship_tag": "ABX9TyPv0NPYdxETo+AT+OOQw310",
      "include_colab_link": true
    },
    "kernelspec": {
      "name": "python3",
      "display_name": "Python 3"
    },
    "language_info": {
      "name": "python"
    }
  },
  "cells": [
    {
      "cell_type": "markdown",
      "metadata": {
        "id": "view-in-github",
        "colab_type": "text"
      },
      "source": [
        "<a href=\"https://colab.research.google.com/github/estjeremy/58003-OOP/blob/main/Control_Structure.ipynb\" target=\"_parent\"><img src=\"https://colab.research.google.com/assets/colab-badge.svg\" alt=\"Open In Colab\"/></a>"
      ]
    },
    {
      "cell_type": "markdown",
      "source": [
        "If Condition"
      ],
      "metadata": {
        "id": "MDQi5P8g9FP-"
      }
    },
    {
      "cell_type": "code",
      "source": [
        "if 5>3:\n",
        "  print(\"five is greater than three\")"
      ],
      "metadata": {
        "colab": {
          "base_uri": "https://localhost:8080/"
        },
        "id": "H5L3tkFT7z-q",
        "outputId": "784e1653-e4b1-4971-a621-714e33f57fff"
      },
      "execution_count": 1,
      "outputs": [
        {
          "output_type": "stream",
          "name": "stdout",
          "text": [
            "five is greater than three\n"
          ]
        }
      ]
    },
    {
      "cell_type": "markdown",
      "source": [
        "If and Elif Condition"
      ],
      "metadata": {
        "id": "Mg7NbD4W8w5v"
      }
    },
    {
      "cell_type": "code",
      "source": [
        "if 3>5:\n",
        "  print(\"three is greater than five\")\n",
        "elif 3<5:\n",
        "  print(\"three is less than five\")"
      ],
      "metadata": {
        "colab": {
          "base_uri": "https://localhost:8080/"
        },
        "id": "hT5LuwhW8yhu",
        "outputId": "7ed1f2c0-f690-493b-9f61-069855fe5695"
      },
      "execution_count": 2,
      "outputs": [
        {
          "output_type": "stream",
          "name": "stdout",
          "text": [
            "three is less than five\n"
          ]
        }
      ]
    },
    {
      "cell_type": "markdown",
      "source": [
        "If, Elif, and Else"
      ],
      "metadata": {
        "id": "742WpGUt96em"
      }
    },
    {
      "cell_type": "code",
      "source": [
        "if 3>2:\n",
        "  print(\"three is greater than two\")\n",
        "elif 3==2:\n",
        "  print(\"three is equal two\")\n",
        "else:\n",
        "  print(\"three is less than two\")"
      ],
      "metadata": {
        "colab": {
          "base_uri": "https://localhost:8080/"
        },
        "id": "L4rIgM-398ql",
        "outputId": "b4478ecd-e1eb-4dd8-895b-57d4f2f3f97b"
      },
      "execution_count": 3,
      "outputs": [
        {
          "output_type": "stream",
          "name": "stdout",
          "text": [
            "three is greater than two\n"
          ]
        }
      ]
    },
    {
      "cell_type": "markdown",
      "source": [
        "Application 1 - Create a python program that will compare if the student is in Elementary, Secondary, and Tertiary Level"
      ],
      "metadata": {
        "id": "xKX_FbaI-fq-"
      }
    },
    {
      "cell_type": "code",
      "source": [
        "print(\"Type the grade level of the student:\")\n",
        "print(\"1 - 6 = Elementary\")\n",
        "print(\"6 - 12 = Secondary\")\n",
        "print(\"None of the choices above = Tertiary\")\n",
        "\n",
        "x = int(input())\n",
        "if x ==1 or x ==2 or x ==3 or x ==4 or x ==5 or x==6:\n",
        "  print(\"Elementary\")\n",
        "elif x==7 or x==8 or x==9 or x==10 or x==11 or x==12:\n",
        "  print(\"Secondary\")\n",
        "else:\n",
        "  print(\"You are in Tertiary Level\")"
      ],
      "metadata": {
        "colab": {
          "base_uri": "https://localhost:8080/"
        },
        "id": "quAFxPxB-yF-",
        "outputId": "b20ffa48-69ca-4263-afed-2d6c5dcc3898"
      },
      "execution_count": 12,
      "outputs": [
        {
          "output_type": "stream",
          "name": "stdout",
          "text": [
            "Type the grade level of the student:\n",
            "1 - 6 = Elementary\n",
            "6 - 12 = Secondary\n",
            "None of the choices above = Tertiary\n",
            "13\n",
            "You are in Tertiary Level\n"
          ]
        }
      ]
    },
    {
      "cell_type": "markdown",
      "source": [
        "Short Hand If Statement"
      ],
      "metadata": {
        "id": "oPWX4qlNCSuu"
      }
    },
    {
      "cell_type": "code",
      "source": [
        "a = 1\n",
        "b = 2\n",
        "\n",
        "if a<b: print(\"a is less than b\")"
      ],
      "metadata": {
        "colab": {
          "base_uri": "https://localhost:8080/"
        },
        "id": "UfPjvfD1CVz0",
        "outputId": "ec8a9161-a6fc-43e4-e840-f9e8420c0334"
      },
      "execution_count": 13,
      "outputs": [
        {
          "output_type": "stream",
          "name": "stdout",
          "text": [
            "a is less than b\n"
          ]
        }
      ]
    },
    {
      "cell_type": "markdown",
      "source": [
        "Short Hand If...Else Statement"
      ],
      "metadata": {
        "id": "kfyveBRSChtd"
      }
    },
    {
      "cell_type": "code",
      "source": [
        "print(\"a is less than b\")if a<b else print(\"a is greater than b\")"
      ],
      "metadata": {
        "colab": {
          "base_uri": "https://localhost:8080/"
        },
        "id": "TE79md4GCj4W",
        "outputId": "c50fe700-46c1-48de-9e7f-9664b41e8cad"
      },
      "execution_count": 15,
      "outputs": [
        {
          "output_type": "stream",
          "name": "stdout",
          "text": [
            "a is less than b\n"
          ]
        }
      ]
    },
    {
      "cell_type": "markdown",
      "source": [
        "Nested If...Else Statement"
      ],
      "metadata": {
        "id": "mSSO4r6DEl43"
      }
    },
    {
      "cell_type": "code",
      "source": [
        "x = 41\n",
        "\n",
        "if x > 10:\n",
        "  print(\"Above ten,\")\n",
        "  if x > 20:\n",
        "    print(\"and also above 20\")\n",
        "    if x> 30:\n",
        "      print(\"and also above 30\")\n",
        "      if x> 40:\n",
        "        print(\"and also above 40\")\n",
        "        if x>50:\n",
        "          print(\"and also above 50\")\n",
        "        else:\n",
        "          print(\"Below 50\")\n",
        "      else:\n",
        "        print(\"Below 40\")\n",
        "    else:\n",
        "      print(\"Below 30\")\n",
        "  else:\n",
        "    print(\"but not above 20\")     \n",
        "else:\n",
        "  print(\"Below 10\")"
      ],
      "metadata": {
        "colab": {
          "base_uri": "https://localhost:8080/"
        },
        "id": "XAZzmx6FEnWW",
        "outputId": "69e95274-268f-4b15-f864-d5f006feb750"
      },
      "execution_count": 33,
      "outputs": [
        {
          "output_type": "stream",
          "name": "stdout",
          "text": [
            "Above ten,\n",
            "and also above 20\n",
            "and also above 30\n",
            "and also above 40\n",
            "Below 50\n"
          ]
        }
      ]
    },
    {
      "cell_type": "markdown",
      "source": [
        "Example 1: Write a program that determines if the input ageis qualified to vote or not. The qualifying age is18 years old and above."
      ],
      "metadata": {
        "id": "WWLO6ih0JEOz"
      }
    },
    {
      "cell_type": "code",
      "source": [
        "age = int(input(\"Enter age : \"))\n",
        "\n",
        "if age >= 18:\n",
        "  print(\"Eligible for Voting!\")\n",
        "else:\n",
        "  print(\"Not Eligible for Voting!\")\n",
        "\n",
        " "
      ],
      "metadata": {
        "colab": {
          "base_uri": "https://localhost:8080/"
        },
        "id": "tach8ClcJ357",
        "outputId": "5e10e9c0-235c-4711-bead-6cf105efb50d"
      },
      "execution_count": 35,
      "outputs": [
        {
          "output_type": "stream",
          "name": "stdout",
          "text": [
            "Enter age : 19\n",
            "Eligible for Voting!\n"
          ]
        }
      ]
    },
    {
      "cell_type": "markdown",
      "source": [
        "Example 2: Write a program that determines if the input number is POSITIVE, NEGATIVE, or ZERO."
      ],
      "metadata": {
        "id": "FbQyE8eSKyaE"
      }
    },
    {
      "cell_type": "code",
      "source": [
        "n = float(input(\"Input a number: \"))\n",
        "if n >= 0:\n",
        "  if n == 0:\n",
        "      print(\"It's Zero\")\n",
        "  else:\n",
        "      print(\"Number is Positive number.\")\n",
        "else:\n",
        "  print(\"Number is Negative number.\")"
      ],
      "metadata": {
        "colab": {
          "base_uri": "https://localhost:8080/"
        },
        "id": "e5TyD2yXK40r",
        "outputId": "682fedce-7cdf-4370-9bce-10976f17c81b"
      },
      "execution_count": 39,
      "outputs": [
        {
          "output_type": "stream",
          "name": "stdout",
          "text": [
            "Input a number: 20\n",
            "Number is Positive number.\n"
          ]
        }
      ]
    },
    {
      "cell_type": "markdown",
      "source": [
        "Example 3: Write a program to determine if the grades are: \n",
        "If:grade > = 70 , “Passed” grade is 65 to 69, “Remedial” grade > 64 or below, “Failed” note: if grade is a negative number, it will not accepted."
      ],
      "metadata": {
        "id": "vkloQWaELWYc"
      }
    },
    {
      "cell_type": "code",
      "source": [
        "print(\"Input Subject Grades\")\n",
        "u = int(input())\n",
        "v = int(input())\n",
        "x = int(input())\n",
        "y = int(input())\n",
        "z = int(input())\n",
        "\n",
        "a = u*0.10 + v*0.20 + x*0.20 + y*0.30 + z*0.20 \n",
        "print(\"Your average grade is\",a)\n",
        "if a>75:\n",
        "  print(\"Passed\")\n",
        "elif a>70:\n",
        "  print(\"Remedial\")\n",
        "elif a>65:\n",
        "  print(\"Failed\")"
      ],
      "metadata": {
        "colab": {
          "base_uri": "https://localhost:8080/"
        },
        "id": "ZWdege4PLbit",
        "outputId": "6f13b4e2-fb05-472a-81ad-e01affdb7d82"
      },
      "execution_count": 43,
      "outputs": [
        {
          "output_type": "stream",
          "name": "stdout",
          "text": [
            "Input Subject Grades\n",
            "90\n",
            "90\n",
            "90\n",
            "90\n",
            "90\n",
            "Your average grade is 90.0\n",
            "Passed\n"
          ]
        }
      ]
    }
  ]
}