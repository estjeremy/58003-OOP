{
  "nbformat": 4,
  "nbformat_minor": 0,
  "metadata": {
    "colab": {
      "provenance": [],
      "toc_visible": true,
      "authorship_tag": "ABX9TyNAC/F2a6pYhCFbfflwwNzS",
      "include_colab_link": true
    },
    "kernelspec": {
      "name": "python3",
      "display_name": "Python 3"
    },
    "language_info": {
      "name": "python"
    }
  },
  "cells": [
    {
      "cell_type": "markdown",
      "metadata": {
        "id": "view-in-github",
        "colab_type": "text"
      },
      "source": [
        "<a href=\"https://colab.research.google.com/github/estjeremy/58003-OOP/blob/main/Encapsulation_and_Inheritance.ipynb\" target=\"_parent\"><img src=\"https://colab.research.google.com/assets/colab-badge.svg\" alt=\"Open In Colab\"/></a>"
      ]
    },
    {
      "cell_type": "code",
      "execution_count": 10,
      "metadata": {
        "colab": {
          "base_uri": "https://localhost:8080/"
        },
        "id": "MaTnsHApVhBP",
        "outputId": "e9f443d4-42cb-49ba-8ebb-bb0c7fa01263"
      },
      "outputs": [
        {
          "output_type": "execute_result",
          "data": {
            "text/plain": [
              "7"
            ]
          },
          "metadata": {},
          "execution_count": 10
        }
      ],
      "source": [
        "class foo:\n",
        "  def __init__(self, a, b):\n",
        "    self.__a = a\n",
        "    self.__b = b\n",
        "  def add(self):\n",
        "    return self.__a + self.__b\n",
        "foo_object = foo(3,4)\n",
        "foo_object.add()"
      ]
    },
    {
      "cell_type": "code",
      "source": [
        "#Example 2\n",
        "\n",
        "class Counter:\n",
        "  def __init__(self, current):\n",
        "    self.current = 0\n",
        "\n",
        "  def increment(self):\n",
        "    self.current += 1\n",
        "\n",
        "  def value(self):\n",
        "    return self.current\n",
        "\n",
        "  def reset(self):\n",
        "    self.current = 0\n",
        "  \n",
        "  def display_counter(self):\n",
        "    print(\"The increment is\",self.increment())\n",
        "    print(\"The current value is\",self.value())\n",
        "    print(\"Reset value is\",self.reset())\n",
        "\n",
        "counter1 = Counter(0)\n",
        "counter1.display_counter()"
      ],
      "metadata": {
        "colab": {
          "base_uri": "https://localhost:8080/"
        },
        "id": "NDE86ht5aVcQ",
        "outputId": "8819553d-2e8f-4c73-eb71-c1d31480758f"
      },
      "execution_count": 33,
      "outputs": [
        {
          "output_type": "stream",
          "name": "stdout",
          "text": [
            "The increment is None\n",
            "The current value is 1\n",
            "Reset value is None\n"
          ]
        }
      ]
    },
    {
      "cell_type": "code",
      "source": [
        "#Inheritance\n",
        "class Person:\n",
        "  def __init__(self, name, birthdate):\n",
        "    self.name = name\n",
        "    self.birthdate = birthdate\n",
        "  def display_identity(self):\n",
        "    print(\"My name is\",self.name)\n",
        "    print(\"My birthday is\",self.birthdate)\n",
        "class Teacher(Person):\n",
        "  pass\n",
        "\n",
        "class Student(Person):\n",
        "  pass\n",
        "\n",
        "teacher = Teacher(\"Shane\",\"February 14, 2002\")\n",
        "student = Student(\"Jeremy\",\"April 17, 2004\")\n",
        "\n",
        "teacher.display_identity()\n",
        "student.display_identity()"
      ],
      "metadata": {
        "colab": {
          "base_uri": "https://localhost:8080/"
        },
        "id": "l9QiybWugAaW",
        "outputId": "d340136c-d8fe-4559-f79c-a1c52017e337"
      },
      "execution_count": 41,
      "outputs": [
        {
          "output_type": "stream",
          "name": "stdout",
          "text": [
            "My name is Shane\n",
            "My birthday is February 14, 2002\n",
            "My name is Jeremy\n",
            "My birthday is April 17, 2004\n"
          ]
        }
      ]
    },
    {
      "cell_type": "markdown",
      "source": [],
      "metadata": {
        "id": "H9QO9F6JeASv"
      }
    },
    {
      "cell_type": "code",
      "source": [
        "#Choose 5 examples of shapes (e.g triangle, square, rectangle)\n",
        "#class name is Shape\n",
        "#sides as attribute\n",
        "#Display() method to show the number of sides\n",
        "#Apply Encapsulation by mangling (double underscore)\n",
        "#Inherit the properties of the each shape from the parent class Shape\n",
        "\n",
        "class Shape:\n",
        "    def __init__(self, sides):\n",
        "        self.__sides = sides\n",
        "\n",
        "    def __display(self):\n",
        "        print(\"This shape has\", self.__sides, \"sides.\")\n",
        "\n",
        "    def show_sides(self):\n",
        "        self.__display()\n",
        "\n",
        "class Triangle(Shape):\n",
        "    def __init__(self):\n",
        "        super().__init__(3)\n",
        "\n",
        "class Square(Shape):\n",
        "    def __init__(self):\n",
        "        super().__init__(4)\n",
        "\n",
        "class Rectangle(Shape):\n",
        "    def __init__(self):\n",
        "        super().__init__(4)\n",
        "\n",
        "class Pentagon(Shape):\n",
        "    def __init__(self):\n",
        "        super().__init__(5)\n",
        "\n",
        "class Hexagon(Shape):\n",
        "    def __init__(self):\n",
        "        super().__init__(6)\n",
        "\n",
        "# create some shape objects and display their sides\n",
        "t = Triangle()\n",
        "t.show_sides()\n",
        "\n",
        "s = Square()\n",
        "s.show_sides()\n",
        "\n",
        "r = Rectangle()\n",
        "r.show_sides()\n",
        "\n",
        "p = Pentagon()\n",
        "p.show_sides()\n",
        "\n",
        "h = Hexagon()\n",
        "h.show_sides()\n"
      ],
      "metadata": {
        "colab": {
          "base_uri": "https://localhost:8080/"
        },
        "id": "7wr9YjJYitad",
        "outputId": "80f594cc-b135-497b-ba26-3d404eba3272"
      },
      "execution_count": 42,
      "outputs": [
        {
          "output_type": "stream",
          "name": "stdout",
          "text": [
            "This shape has 3 sides.\n",
            "This shape has 4 sides.\n",
            "This shape has 4 sides.\n",
            "This shape has 5 sides.\n",
            "This shape has 6 sides.\n"
          ]
        }
      ]
    }
  ]
}