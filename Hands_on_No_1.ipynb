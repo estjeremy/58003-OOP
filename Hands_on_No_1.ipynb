{
  "nbformat": 4,
  "nbformat_minor": 0,
  "metadata": {
    "colab": {
      "provenance": [],
      "authorship_tag": "ABX9TyNrovRMAmmHFCFNGg4uh3A1",
      "include_colab_link": true
    },
    "kernelspec": {
      "name": "python3",
      "display_name": "Python 3"
    },
    "language_info": {
      "name": "python"
    }
  },
  "cells": [
    {
      "cell_type": "markdown",
      "metadata": {
        "id": "view-in-github",
        "colab_type": "text"
      },
      "source": [
        "<a href=\"https://colab.research.google.com/github/estjeremy/58003-OOP/blob/main/Hands_on_No_1.ipynb\" target=\"_parent\"><img src=\"https://colab.research.google.com/assets/colab-badge.svg\" alt=\"Open In Colab\"/></a>"
      ]
    },
    {
      "cell_type": "code",
      "execution_count": 1,
      "metadata": {
        "colab": {
          "base_uri": "https://localhost:8080/"
        },
        "id": "pSo46lVKaqW0",
        "outputId": "fc492da3-f671-48c1-b2de-1ebb2fca871f"
      },
      "outputs": [
        {
          "output_type": "stream",
          "name": "stdout",
          "text": [
            "The average grade is 86.0\n",
            "The average grade is 93.0\n",
            "The average grade is 80.66666666666667\n"
          ]
        }
      ],
      "source": [
        "class Person:\n",
        "  def __init__(self,prelim,midterm,finals):\n",
        "    self.prelim = prelim\n",
        "    self.midterm = midterm\n",
        "    self.finals = finals\n",
        "\n",
        "  def grade(self):\n",
        "    average = (self.prelim+self.midterm+self.finals)/3\n",
        "    print(\"The average grade is\",average)\n",
        "\n",
        "std1 = Person(80,90,88)\n",
        "std1.grade()\n",
        "\n",
        "std2 = Person(92,87,100)\n",
        "std2.grade()\n",
        "\n",
        "std3 = Person(78,81,83)\n",
        "std3.grade()\n"
      ]
    }
  ]
}