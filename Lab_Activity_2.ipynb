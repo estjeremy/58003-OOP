{
  "nbformat": 4,
  "nbformat_minor": 0,
  "metadata": {
    "colab": {
      "provenance": [],
      "toc_visible": true,
      "authorship_tag": "ABX9TyNAFctX2o0EUoe6C3P5gotm",
      "include_colab_link": true
    },
    "kernelspec": {
      "name": "python3",
      "display_name": "Python 3"
    },
    "language_info": {
      "name": "python"
    }
  },
  "cells": [
    {
      "cell_type": "markdown",
      "metadata": {
        "id": "view-in-github",
        "colab_type": "text"
      },
      "source": [
        "<a href=\"https://colab.research.google.com/github/estjeremy/58003-OOP/blob/main/Lab_Activity_2.ipynb\" target=\"_parent\"><img src=\"https://colab.research.google.com/assets/colab-badge.svg\" alt=\"Open In Colab\"/></a>"
      ]
    },
    {
      "cell_type": "markdown",
      "source": [
        "Lab Activity #2"
      ],
      "metadata": {
        "id": "avtq_vF0Qk_-"
      }
    },
    {
      "cell_type": "code",
      "execution_count": 2,
      "metadata": {
        "colab": {
          "base_uri": "https://localhost:8080/"
        },
        "id": "xB9krXniQPnZ",
        "outputId": "e797dc92-8e54-4c8d-dd86-8815ba80f3c7"
      },
      "outputs": [
        {
          "output_type": "stream",
          "name": "stdout",
          "text": [
            "Enter the radius of the circle: 25\n",
            "The perimeter of the circle is: 157.08\n",
            "The area of the circle is: 1963.49\n"
          ]
        }
      ],
      "source": [
        "class Circle:\n",
        "    pi = 3.14159\n",
        "\n",
        "    def __init__(self, radius):\n",
        "        self.radius = radius\n",
        "\n",
        "    def Perimeter(self):\n",
        "        return 2 * Circle.pi * self.radius\n",
        "\n",
        "    def Area(self):\n",
        "        return Circle.pi * self.radius ** 2\n",
        "\n",
        "    def Display(self):\n",
        "        print(f\"The perimeter of the circle is: {self.Perimeter():.2f}\")\n",
        "        print(f\"The area of the circle is: {self.Area():.2f}\")\n",
        "\n",
        "# Taking user input for the radius of the circle\n",
        "radius = float(input(\"Enter the radius of the circle: \"))\n",
        "\n",
        "# Creating an instance of the Circle class\n",
        "circle = Circle(radius)\n",
        "\n",
        "# Calling the Display method to print the perimeter and area of the circle\n",
        "circle.Display()"
      ]
    }
  ]
}